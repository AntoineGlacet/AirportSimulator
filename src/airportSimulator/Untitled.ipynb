{
 "cells": [
  {
   "cell_type": "code",
   "execution_count": 1,
   "id": "b972218c",
   "metadata": {
    "ExecuteTime": {
     "end_time": "2021-12-04T03:58:22.082187Z",
     "start_time": "2021-12-04T03:58:21.999922Z"
    }
   },
   "outputs": [
    {
     "name": "stdout",
     "output_type": "stream",
     "text": [
      "pygame 2.1.0 (SDL 2.0.16, Python 3.8.10)\n",
      "Hello from the pygame community. https://www.pygame.org/contribute.html\n"
     ]
    }
   ],
   "source": [
    "import pygame as pg\n",
    "import pytmx"
   ]
  },
  {
   "cell_type": "code",
   "execution_count": 2,
   "id": "5fd6d75f",
   "metadata": {
    "ExecuteTime": {
     "end_time": "2021-12-04T03:58:23.575892Z",
     "start_time": "2021-12-04T03:58:22.086217Z"
    }
   },
   "outputs": [],
   "source": [
    "pg.init()\n",
    "screen = pg.display.set_mode((500, 500))"
   ]
  },
  {
   "cell_type": "code",
   "execution_count": 3,
   "id": "750e0492",
   "metadata": {
    "ExecuteTime": {
     "end_time": "2021-12-04T03:58:23.580448Z",
     "start_time": "2021-12-04T03:58:23.577870Z"
    }
   },
   "outputs": [],
   "source": [
    "path = r'/home/antoine/projects/trafficSimulator/src/airportSimulator/maps/covid_arrival.tmx'"
   ]
  },
  {
   "cell_type": "code",
   "execution_count": 4,
   "id": "8829506f",
   "metadata": {
    "ExecuteTime": {
     "end_time": "2021-12-04T03:58:24.039307Z",
     "start_time": "2021-12-04T03:58:23.582369Z"
    }
   },
   "outputs": [],
   "source": [
    "tm = pytmx.load_pygame(path, pixelalpha=True)"
   ]
  },
  {
   "cell_type": "code",
   "execution_count": 14,
   "id": "cf067701",
   "metadata": {
    "ExecuteTime": {
     "end_time": "2021-12-04T04:12:16.299530Z",
     "start_time": "2021-12-04T04:12:16.263949Z"
    }
   },
   "outputs": [
    {
     "name": "stdout",
     "output_type": "stream",
     "text": [
      "0.0 0.0 12000.0 1234.0\n",
      "[(0.0, 0.0), (0.0, 1234.0), (12000.0, 1234.0), (12000.0, 0.0)]\n",
      "516.0 258.667 100.667 32.0\n",
      "[(516.0, 258.667), (548.0, 258.667), (548.0, 157.99999999999994), (516.0, 157.99999999999994)]\n",
      "516.333 354.667 100.667 32.0\n",
      "[(516.333, 354.667), (548.333, 354.667), (548.333, 253.99999999999994), (516.333, 253.99999999999994)]\n",
      "516.333 450.0 100.667 32.0\n",
      "[(516.333, 450.0), (548.333, 450.0), (548.333, 349.33299999999997), (516.333, 349.33299999999997)]\n",
      "5630.67 610.0 100.667 32.0\n",
      "[(5630.67, 610.0), (5630.67, 642.0), (5731.337, 642.0), (5731.337, 610.0)]\n",
      "5821.67 610.0 100.667 32.0\n",
      "[(5821.67, 610.0), (5821.67, 642.0), (5922.337, 642.0), (5922.337, 610.0)]\n",
      "5725.67 610.0 100.667 32.0\n",
      "[(5725.67, 610.0), (5725.67, 642.0), (5826.337, 642.0), (5826.337, 610.0)]\n",
      "5918.67 610.0 100.667 32.0\n",
      "[(5918.67, 610.0), (5918.67, 642.0), (6019.337, 642.0), (6019.337, 610.0)]\n",
      "6015.67 610.0 100.667 32.0\n",
      "[(6015.67, 610.0), (6015.67, 642.0), (6116.337, 642.0), (6116.337, 610.0)]\n",
      "6111.67 610.0 100.667 32.0\n",
      "[(6111.67, 610.0), (6111.67, 642.0), (6212.337, 642.0), (6212.337, 610.0)]\n",
      "474.0 196.0 22.0 25.0\n",
      "[(474.0, 196.0), (474.0, 221.0), (496.0, 221.0), (496.0, 196.0)]\n",
      "474.0 228.5 22.0 25.0\n",
      "[(474.0, 228.5), (474.0, 253.5), (496.0, 253.5), (496.0, 228.5)]\n",
      "473.0 259.5 22.0 25.0\n",
      "[(473.0, 259.5), (473.0, 284.5), (495.0, 284.5), (495.0, 259.5)]\n",
      "473.0 292.5 22.0 25.0\n",
      "[(473.0, 292.5), (473.0, 317.5), (495.0, 317.5), (495.0, 292.5)]\n",
      "473.0 324.5 22.0 25.0\n",
      "[(473.0, 324.5), (473.0, 349.5), (495.0, 349.5), (495.0, 324.5)]\n",
      "473.0 356.5 22.0 25.0\n",
      "[(473.0, 356.5), (473.0, 381.5), (495.0, 381.5), (495.0, 356.5)]\n",
      "473.0 388.5 22.0 25.0\n",
      "[(473.0, 388.5), (473.0, 413.5), (495.0, 413.5), (495.0, 388.5)]\n",
      "473.0 388.5 22.0 25.0\n",
      "[(473.0, 388.5), (473.0, 413.5), (495.0, 413.5), (495.0, 388.5)]\n",
      "473.0 388.5 22.0 25.0\n",
      "[(473.0, 388.5), (473.0, 413.5), (495.0, 413.5), (495.0, 388.5)]\n",
      "473.0 420.5 22.0 25.0\n",
      "[(473.0, 420.5), (473.0, 445.5), (495.0, 445.5), (495.0, 420.5)]\n",
      "473.0 420.5 22.0 25.0\n",
      "[(473.0, 420.5), (473.0, 445.5), (495.0, 445.5), (495.0, 420.5)]\n",
      "473.0 452.5 22.0 25.0\n",
      "[(473.0, 452.5), (473.0, 477.5), (495.0, 477.5), (495.0, 452.5)]\n",
      "5637.33 572.5 22.0 25.0\n",
      "[(5637.33, 572.5), (5612.33, 572.5), (5612.33, 594.5), (5637.33, 594.5)]\n",
      "5668.0 572.5 22.0 25.0\n",
      "[(5668.0, 572.5), (5643.0, 572.5), (5643.0, 594.5), (5668.0, 594.5)]\n",
      "5699.67 572.833 22.0 25.0\n",
      "[(5699.67, 572.833), (5674.67, 572.833), (5674.67, 594.833), (5699.67, 594.833)]\n",
      "5732.33 573.166 22.0 25.0\n",
      "[(5732.33, 573.166), (5707.33, 573.166), (5707.33, 595.166), (5732.33, 595.166)]\n",
      "5765.33 573.5 22.0 25.0\n",
      "[(5765.33, 573.5), (5740.33, 573.5), (5740.33, 595.5), (5765.33, 595.5)]\n",
      "5795.33 573.166 22.0 25.0\n",
      "[(5795.33, 573.166), (5770.33, 573.166), (5770.33, 595.166), (5795.33, 595.166)]\n",
      "5827.67 572.833 22.0 25.0\n",
      "[(5827.67, 572.833), (5802.67, 572.833), (5802.67, 594.833), (5827.67, 594.833)]\n",
      "5859.0 573.166 22.0 25.0\n",
      "[(5859.0, 573.166), (5834.0, 573.166), (5834.0, 595.166), (5859.0, 595.166)]\n",
      "5891.0 572.833 22.0 25.0\n",
      "[(5891.0, 572.833), (5866.0, 572.833), (5866.0, 594.833), (5891.0, 594.833)]\n",
      "5924.33 571.833 22.0 25.0\n",
      "[(5924.33, 571.833), (5899.33, 571.833), (5899.33, 593.833), (5924.33, 593.833)]\n",
      "5956.0 571.833 22.0 25.0\n",
      "[(5956.0, 571.833), (5931.0, 571.833), (5931.0, 593.833), (5956.0, 593.833)]\n",
      "5987.33 572.5 22.0 25.0\n",
      "[(5987.33, 572.5), (5962.33, 572.5), (5962.33, 594.5), (5987.33, 594.5)]\n",
      "6020.0 572.5 22.0 25.0\n",
      "[(6020.0, 572.5), (5995.0, 572.5), (5995.0, 594.5), (6020.0, 594.5)]\n",
      "6050.67 572.833 22.0 25.0\n",
      "[(6050.67, 572.833), (6025.67, 572.833), (6025.67, 594.833), (6050.67, 594.833)]\n",
      "6084.0 573.166 22.0 25.0\n",
      "[(6084.0, 573.166), (6059.0, 573.166), (6059.0, 595.166), (6084.0, 595.166)]\n",
      "6116.0 572.5 22.0 25.0\n",
      "[(6116.0, 572.5), (6091.0, 572.5), (6091.0, 594.5), (6116.0, 594.5)]\n",
      "6148.0 572.5 22.0 25.0\n",
      "[(6148.0, 572.5), (6123.0, 572.5), (6123.0, 594.5), (6148.0, 594.5)]\n",
      "6178.67 572.5 22.0 25.0\n",
      "[(6178.67, 572.5), (6153.67, 572.5), (6153.67, 594.5), (6178.67, 594.5)]\n"
     ]
    }
   ],
   "source": [
    "for object_group in tm.objectgroups:\n",
    "            if \"fixed_sprite\" in object_group.properties.keys():\n",
    "                layer = object_group.properties[\"layer\"]\n",
    "                for obj in object_group:\n",
    "                    print(obj.x, obj.y, obj.width, obj.height)\n",
    "                    print(obj.apply_transformations())"
   ]
  },
  {
   "cell_type": "code",
   "execution_count": null,
   "id": "1c9d6724",
   "metadata": {},
   "outputs": [],
   "source": []
  },
  {
   "cell_type": "code",
   "execution_count": 10,
   "id": "a8150b28",
   "metadata": {
    "ExecuteTime": {
     "end_time": "2021-12-04T04:09:28.822176Z",
     "start_time": "2021-12-04T04:09:28.812987Z"
    }
   },
   "outputs": [
    {
     "name": "stdout",
     "output_type": "stream",
     "text": [
      "<TiledObjectGroup[2]: \"background\">\n",
      "{'fixed_sprite': True, 'layer': 1}\n",
      "{'id': 0, 'source': '../img/covid_north_2F.png', 'trans': None, 'width': '12000', 'height': '1234', 'frames': []}\n",
      "<TiledObjectGroup[8]: \"desk_sprites\">\n",
      "{'fixed_sprite': True, 'layer': 2}\n",
      "{}\n",
      "{}\n",
      "{}\n",
      "{}\n",
      "{}\n",
      "{}\n",
      "{}\n",
      "{}\n",
      "{}\n",
      "<TiledObjectGroup[9]: \"staff_sprites\">\n",
      "{'fixed_sprite': True, 'layer': 3}\n",
      "{'id': 1, 'source': '../img/../../../../../../../mnt/d/tilesets/topdown-shooter/PNG/Woman Green/womanGreen_hold.png', 'trans': None, 'width': '38', 'height': '43', 'frames': []}\n",
      "{'id': 1, 'source': '../img/../../../../../../../mnt/d/tilesets/topdown-shooter/PNG/Woman Green/womanGreen_hold.png', 'trans': None, 'width': '38', 'height': '43', 'frames': []}\n",
      "{'id': 1, 'source': '../img/../../../../../../../mnt/d/tilesets/topdown-shooter/PNG/Woman Green/womanGreen_hold.png', 'trans': None, 'width': '38', 'height': '43', 'frames': []}\n",
      "{'id': 1, 'source': '../img/../../../../../../../mnt/d/tilesets/topdown-shooter/PNG/Woman Green/womanGreen_hold.png', 'trans': None, 'width': '38', 'height': '43', 'frames': []}\n",
      "{'id': 1, 'source': '../img/../../../../../../../mnt/d/tilesets/topdown-shooter/PNG/Woman Green/womanGreen_hold.png', 'trans': None, 'width': '38', 'height': '43', 'frames': []}\n",
      "{'id': 1, 'source': '../img/../../../../../../../mnt/d/tilesets/topdown-shooter/PNG/Woman Green/womanGreen_hold.png', 'trans': None, 'width': '38', 'height': '43', 'frames': []}\n",
      "{'id': 1, 'source': '../img/../../../../../../../mnt/d/tilesets/topdown-shooter/PNG/Woman Green/womanGreen_hold.png', 'trans': None, 'width': '38', 'height': '43', 'frames': []}\n",
      "{'id': 1, 'source': '../img/../../../../../../../mnt/d/tilesets/topdown-shooter/PNG/Woman Green/womanGreen_hold.png', 'trans': None, 'width': '38', 'height': '43', 'frames': []}\n",
      "{'id': 1, 'source': '../img/../../../../../../../mnt/d/tilesets/topdown-shooter/PNG/Woman Green/womanGreen_hold.png', 'trans': None, 'width': '38', 'height': '43', 'frames': []}\n",
      "{'id': 1, 'source': '../img/../../../../../../../mnt/d/tilesets/topdown-shooter/PNG/Woman Green/womanGreen_hold.png', 'trans': None, 'width': '38', 'height': '43', 'frames': []}\n",
      "{'id': 1, 'source': '../img/../../../../../../../mnt/d/tilesets/topdown-shooter/PNG/Woman Green/womanGreen_hold.png', 'trans': None, 'width': '38', 'height': '43', 'frames': []}\n",
      "{'id': 1, 'source': '../img/../../../../../../../mnt/d/tilesets/topdown-shooter/PNG/Woman Green/womanGreen_hold.png', 'trans': None, 'width': '38', 'height': '43', 'frames': []}\n",
      "{}\n",
      "{}\n",
      "{}\n",
      "{}\n",
      "{}\n",
      "{}\n",
      "{}\n",
      "{}\n",
      "{}\n",
      "{}\n",
      "{}\n",
      "{}\n",
      "{}\n",
      "{}\n",
      "{}\n",
      "{}\n",
      "{}\n",
      "{}\n",
      "<TiledObjectGroup[3]: \"queues\">\n",
      "{'rectangles': True}\n",
      "{}\n",
      "{}\n",
      "{}\n",
      "{}\n",
      "<TiledObjectGroup[4]: \"points\">\n",
      "{'points': True}\n",
      "{}\n",
      "{}\n",
      "{}\n",
      "{}\n",
      "{}\n"
     ]
    }
   ],
   "source": [
    "for object_group in tm.objectgroups:\n",
    "        print(object_group)\n",
    "        print(object_group.properties)\n",
    "        for object in object_group:\n",
    "            print(object.properties)"
   ]
  },
  {
   "cell_type": "code",
   "execution_count": null,
   "id": "7a50885a",
   "metadata": {},
   "outputs": [],
   "source": []
  },
  {
   "cell_type": "code",
   "execution_count": 6,
   "id": "e39e14d3",
   "metadata": {
    "ExecuteTime": {
     "end_time": "2021-12-04T03:58:24.056696Z",
     "start_time": "2021-12-04T03:58:24.052299Z"
    }
   },
   "outputs": [
    {
     "name": "stdout",
     "output_type": "stream",
     "text": [
      "<TiledObjectGroup[2]: \"background\">\n",
      "<TiledObject[1]: \"background\">\n",
      "<TiledObjectGroup[8]: \"desk_sprites\">\n",
      "<TiledObject[7]: \"None\">\n",
      "<TiledObjectGroup[9]: \"staff_sprites\">\n",
      "<TiledObject[13]: \"None\">\n",
      "<TiledObjectGroup[3]: \"queues\">\n",
      "<TiledObject[3]: \"queue_A\">\n",
      "<TiledObjectGroup[4]: \"points\">\n",
      "<TiledObject[2]: \"spawn_point\">\n"
     ]
    }
   ],
   "source": [
    "for object_group in tm.objectgroups:\n",
    "    print(object_group)\n",
    "    print(object_group[0])"
   ]
  },
  {
   "cell_type": "code",
   "execution_count": 7,
   "id": "dd8674c0",
   "metadata": {
    "ExecuteTime": {
     "end_time": "2021-12-04T03:58:24.073248Z",
     "start_time": "2021-12-04T03:58:24.058284Z"
    }
   },
   "outputs": [
    {
     "name": "stdout",
     "output_type": "stream",
     "text": [
      "<TiledObject[1]: \"background\"> <Surface(12000x1234x32 SW)>\n",
      "<TiledObject[7]: \"None\"> <Surface(32x32x32 SW)>\n",
      "<TiledObject[83]: \"None\"> <Surface(32x32x32 SW)>\n",
      "<TiledObject[84]: \"None\"> <Surface(32x32x32 SW)>\n",
      "<TiledObject[85]: \"None\"> <Surface(32x32x32 SW)>\n",
      "<TiledObject[86]: \"None\"> <Surface(32x32x32 SW)>\n",
      "<TiledObject[87]: \"None\"> <Surface(32x32x32 SW)>\n",
      "<TiledObject[88]: \"None\"> <Surface(32x32x32 SW)>\n",
      "<TiledObject[89]: \"None\"> <Surface(32x32x32 SW)>\n",
      "<TiledObject[90]: \"None\"> <Surface(32x32x32 SW)>\n",
      "<TiledObject[13]: \"None\"> <Surface(38x43x32 SW)>\n",
      "<TiledObject[14]: \"None\"> <Surface(38x43x32 SW)>\n",
      "<TiledObject[15]: \"None\"> <Surface(38x43x32 SW)>\n",
      "<TiledObject[16]: \"None\"> <Surface(38x43x32 SW)>\n",
      "<TiledObject[17]: \"None\"> <Surface(38x43x32 SW)>\n",
      "<TiledObject[75]: \"None\"> <Surface(38x43x32 SW)>\n",
      "<TiledObject[76]: \"None\"> <Surface(38x43x32 SW)>\n",
      "<TiledObject[77]: \"None\"> <Surface(38x43x32 SW)>\n",
      "<TiledObject[79]: \"None\"> <Surface(38x43x32 SW)>\n",
      "<TiledObject[80]: \"None\"> <Surface(38x43x32 SW)>\n",
      "<TiledObject[81]: \"None\"> <Surface(38x43x32 SW)>\n",
      "<TiledObject[82]: \"None\"> <Surface(38x43x32 SW)>\n",
      "<TiledObject[91]: \"None\"> None\n",
      "<TiledObject[92]: \"None\"> None\n",
      "<TiledObject[93]: \"None\"> None\n",
      "<TiledObject[94]: \"None\"> None\n",
      "<TiledObject[95]: \"None\"> None\n",
      "<TiledObject[96]: \"None\"> None\n",
      "<TiledObject[97]: \"None\"> None\n",
      "<TiledObject[98]: \"None\"> None\n",
      "<TiledObject[99]: \"None\"> None\n",
      "<TiledObject[100]: \"None\"> None\n",
      "<TiledObject[101]: \"None\"> None\n",
      "<TiledObject[102]: \"None\"> None\n",
      "<TiledObject[103]: \"None\"> None\n",
      "<TiledObject[104]: \"None\"> None\n",
      "<TiledObject[105]: \"None\"> None\n",
      "<TiledObject[106]: \"None\"> None\n",
      "<TiledObject[107]: \"None\"> None\n",
      "<TiledObject[108]: \"None\"> None\n"
     ]
    }
   ],
   "source": [
    "for object_group in tm.objectgroups:\n",
    "    for object in object_group:\n",
    "        if 'fixed_sprite' in object_group.properties.keys():\n",
    "            print(object, object.image)"
   ]
  },
  {
   "cell_type": "code",
   "execution_count": 8,
   "id": "d48afc0c",
   "metadata": {
    "ExecuteTime": {
     "end_time": "2021-12-04T03:58:24.087275Z",
     "start_time": "2021-12-04T03:58:24.074741Z"
    }
   },
   "outputs": [
    {
     "name": "stdout",
     "output_type": "stream",
     "text": [
      "<Surface(12000x1234x32 SW)>\n",
      "<Surface(32x32x32 SW)>\n",
      "<Surface(32x32x32 SW)>\n",
      "<Surface(32x32x32 SW)>\n",
      "<Surface(32x32x32 SW)>\n",
      "<Surface(32x32x32 SW)>\n",
      "<Surface(32x32x32 SW)>\n",
      "<Surface(32x32x32 SW)>\n",
      "<Surface(32x32x32 SW)>\n",
      "<Surface(32x32x32 SW)>\n",
      "<Surface(38x43x32 SW)>\n",
      "<Surface(38x43x32 SW)>\n",
      "<Surface(38x43x32 SW)>\n",
      "<Surface(38x43x32 SW)>\n",
      "<Surface(38x43x32 SW)>\n",
      "<Surface(38x43x32 SW)>\n",
      "<Surface(38x43x32 SW)>\n",
      "<Surface(38x43x32 SW)>\n",
      "<Surface(38x43x32 SW)>\n",
      "<Surface(38x43x32 SW)>\n",
      "<Surface(38x43x32 SW)>\n",
      "<Surface(38x43x32 SW)>\n",
      "None\n",
      "None\n",
      "None\n",
      "None\n",
      "None\n",
      "None\n",
      "None\n",
      "None\n",
      "None\n",
      "None\n",
      "None\n",
      "None\n",
      "None\n",
      "None\n",
      "None\n",
      "None\n",
      "None\n",
      "None\n",
      "None\n",
      "None\n",
      "None\n",
      "None\n",
      "None\n",
      "None\n",
      "None\n",
      "None\n",
      "None\n"
     ]
    }
   ],
   "source": [
    "gid_list = []\n",
    "for object in tm.objects:\n",
    "    print(object.image)"
   ]
  },
  {
   "cell_type": "code",
   "execution_count": 9,
   "id": "c606f98b",
   "metadata": {
    "ExecuteTime": {
     "end_time": "2021-12-04T03:58:24.096582Z",
     "start_time": "2021-12-04T03:58:24.088970Z"
    }
   },
   "outputs": [
    {
     "data": {
      "text/plain": [
       "[]"
      ]
     },
     "execution_count": 9,
     "metadata": {},
     "output_type": "execute_result"
    }
   ],
   "source": [
    "gid_list\n"
   ]
  }
 ],
 "metadata": {
  "hide_input": false,
  "kernelspec": {
   "display_name": "Python [conda env:KAPpaxsim]",
   "language": "python",
   "name": "conda-env-KAPpaxsim-py"
  },
  "language_info": {
   "codemirror_mode": {
    "name": "ipython",
    "version": 3
   },
   "file_extension": ".py",
   "mimetype": "text/x-python",
   "name": "python",
   "nbconvert_exporter": "python",
   "pygments_lexer": "ipython3",
   "version": "3.8.10"
  },
  "toc": {
   "base_numbering": 1,
   "nav_menu": {},
   "number_sections": true,
   "sideBar": true,
   "skip_h1_title": false,
   "title_cell": "Table of Contents",
   "title_sidebar": "Contents",
   "toc_cell": false,
   "toc_position": {},
   "toc_section_display": true,
   "toc_window_display": false
  },
  "varInspector": {
   "cols": {
    "lenName": 16,
    "lenType": 16,
    "lenVar": 40
   },
   "kernels_config": {
    "python": {
     "delete_cmd_postfix": "",
     "delete_cmd_prefix": "del ",
     "library": "var_list.py",
     "varRefreshCmd": "print(var_dic_list())"
    },
    "r": {
     "delete_cmd_postfix": ") ",
     "delete_cmd_prefix": "rm(",
     "library": "var_list.r",
     "varRefreshCmd": "cat(var_dic_list()) "
    }
   },
   "position": {
    "height": "544.844px",
    "left": "3045px",
    "right": "20px",
    "top": "130px",
    "width": "350px"
   },
   "types_to_exclude": [
    "module",
    "function",
    "builtin_function_or_method",
    "instance",
    "_Feature"
   ],
   "window_display": true
  }
 },
 "nbformat": 4,
 "nbformat_minor": 5
}
