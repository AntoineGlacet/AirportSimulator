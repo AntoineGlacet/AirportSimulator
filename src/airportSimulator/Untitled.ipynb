{
 "cells": [
  {
   "cell_type": "code",
   "execution_count": null,
   "id": "b972218c",
   "metadata": {
    "ExecuteTime": {
     "end_time": "2021-12-04T03:58:22.082187Z",
     "start_time": "2021-12-04T03:58:21.999922Z"
    }
   },
   "outputs": [],
   "source": [
    "import pygame as pg\n",
    "import pytmx"
   ]
  },
  {
   "cell_type": "code",
   "execution_count": null,
   "id": "5fd6d75f",
   "metadata": {
    "ExecuteTime": {
     "end_time": "2021-12-04T03:58:23.575892Z",
     "start_time": "2021-12-04T03:58:22.086217Z"
    }
   },
   "outputs": [],
   "source": [
    "pg.init()\n",
    "screen = pg.display.set_mode((500, 500))"
   ]
  },
  {
   "cell_type": "code",
   "execution_count": null,
   "id": "750e0492",
   "metadata": {
    "ExecuteTime": {
     "end_time": "2021-12-04T03:58:23.580448Z",
     "start_time": "2021-12-04T03:58:23.577870Z"
    }
   },
   "outputs": [],
   "source": [
    "path = r'/home/antoine/projects/trafficSimulator/src/airportSimulator/maps/covid_arrival.tmx'"
   ]
  },
  {
   "cell_type": "code",
   "execution_count": null,
   "id": "8829506f",
   "metadata": {
    "ExecuteTime": {
     "end_time": "2021-12-04T03:58:24.039307Z",
     "start_time": "2021-12-04T03:58:23.582369Z"
    }
   },
   "outputs": [],
   "source": [
    "tm = pytmx.load_pygame(path, pixelalpha=True)"
   ]
  },
  {
   "cell_type": "code",
   "execution_count": null,
   "id": "cf067701",
   "metadata": {
    "ExecuteTime": {
     "end_time": "2021-12-04T04:12:16.299530Z",
     "start_time": "2021-12-04T04:12:16.263949Z"
    }
   },
   "outputs": [],
   "source": [
    "for object_group in tm.objectgroups:\n",
    "            if \"fixed_sprite\" in object_group.properties.keys():\n",
    "                layer = object_group.properties[\"layer\"]\n",
    "                for obj in object_group:\n",
    "                    print(obj.x, obj.y, obj.width, obj.height)\n",
    "                    print(obj.apply_transformations())"
   ]
  },
  {
   "cell_type": "code",
   "execution_count": null,
   "id": "1c9d6724",
   "metadata": {},
   "outputs": [],
   "source": []
  },
  {
   "cell_type": "code",
   "execution_count": null,
   "id": "a8150b28",
   "metadata": {
    "ExecuteTime": {
     "end_time": "2021-12-04T04:09:28.822176Z",
     "start_time": "2021-12-04T04:09:28.812987Z"
    }
   },
   "outputs": [],
   "source": [
    "for object_group in tm.objectgroups:\n",
    "        print(object_group)\n",
    "        print(object_group.properties)\n",
    "        for object in object_group:\n",
    "            print(object.properties)"
   ]
  },
  {
   "cell_type": "code",
   "execution_count": null,
   "id": "7a50885a",
   "metadata": {},
   "outputs": [],
   "source": []
  },
  {
   "cell_type": "code",
   "execution_count": null,
   "id": "e39e14d3",
   "metadata": {
    "ExecuteTime": {
     "end_time": "2021-12-04T03:58:24.056696Z",
     "start_time": "2021-12-04T03:58:24.052299Z"
    }
   },
   "outputs": [],
   "source": [
    "for object_group in tm.objectgroups:\n",
    "    print(object_group)\n",
    "    print(object_group[0])"
   ]
  },
  {
   "cell_type": "code",
   "execution_count": null,
   "id": "dd8674c0",
   "metadata": {
    "ExecuteTime": {
     "end_time": "2021-12-04T03:58:24.073248Z",
     "start_time": "2021-12-04T03:58:24.058284Z"
    }
   },
   "outputs": [],
   "source": [
    "for object_group in tm.objectgroups:\n",
    "    for object in object_group:\n",
    "        if 'fixed_sprite' in object_group.properties.keys():\n",
    "            print(object, object.image)"
   ]
  },
  {
   "cell_type": "code",
   "execution_count": null,
   "id": "d48afc0c",
   "metadata": {
    "ExecuteTime": {
     "end_time": "2021-12-04T03:58:24.087275Z",
     "start_time": "2021-12-04T03:58:24.074741Z"
    }
   },
   "outputs": [],
   "source": [
    "gid_list = []\n",
    "for object in tm.objects:\n",
    "    print(object.image)"
   ]
  },
  {
   "cell_type": "code",
   "execution_count": null,
   "id": "c606f98b",
   "metadata": {
    "ExecuteTime": {
     "end_time": "2021-12-04T03:58:24.096582Z",
     "start_time": "2021-12-04T03:58:24.088970Z"
    }
   },
   "outputs": [],
   "source": [
    "gid_list\n"
   ]
  },
  {
   "cell_type": "code",
   "execution_count": 2,
   "id": "2dbd6a96",
   "metadata": {
    "ExecuteTime": {
     "end_time": "2021-12-05T06:36:59.751019Z",
     "start_time": "2021-12-05T06:36:59.748435Z"
    }
   },
   "outputs": [],
   "source": [
    "import pygame as pg\n",
    "vec = pg.math.Vector2"
   ]
  },
  {
   "cell_type": "code",
   "execution_count": null,
   "id": "f3fd9909",
   "metadata": {},
   "outputs": [],
   "source": [
    "x_exit = 0\n",
    "y_exit = 0 \n",
    "queue_dir_vec = \n",
    "\n",
    "\n",
    "# to be moved to initialization\n",
    " queue_dir_vec = vec( x_exit,  y_exit) +  queue_dir_vec\n",
    "\n",
    "# dict with the coordinates of each waiting position, including overflow\n",
    "dct_centers_overflow = {\n",
    "    n: (0, 0) for n in range( overflow_ratio *  N_position_total)\n",
    "}\n",
    "\n",
    "# define the queue fold depending on its direction\n",
    "if  queue_dir_vec * vec(1, 0) == 0:\n",
    "     N_fold =  height // TILESIZE\n",
    "     N_position_1fold =  width // TILESIZE\n",
    "\n",
    "if  queue_dir_vec * vec(0, 1) == 0:\n",
    "     N_fold =  width // TILESIZE\n",
    "     N_position_1fold =  height // TILESIZE\n",
    "\n",
    "# calculate queue parameters\n",
    "next_fold_vec =  queue_dir_vec\n",
    "\n",
    "# prendre les deux vecteurs unitaire orthogonaux au  queue_dir\n",
    "next_pos_vec_candidates = (\n",
    "     queue_dir_vec.rotate(90),\n",
    "     queue_dir_vec.rotate(-90),\n",
    ")\n",
    "# selectionner celui qui n'est pas hors du rectangle\n",
    "found_next_pos_vec = False\n",
    "for next_pos_vec_candidate in next_pos_vec_candidates:\n",
    "    next_pos = vec( x_exit,  y_exit) + next_pos_vec_candidate\n",
    "    if ( x <= next_pos.x <  x +  width) and (\n",
    "         y <= next_pos.y <  y +  height\n",
    "    ):\n",
    "        next_pos_vec = next_pos_vec_candidate\n",
    "        found_next_pos_vec = True\n",
    "\n",
    "# si on trouve pas, c'est que c'est one column\n",
    "if found_next_pos_vec == False:\n",
    "    next_pos_vec = vec( x_exit,  y_exit) +  queue_dir_vec\n",
    "\n",
    "# loop through all the positions\n",
    "for n in dct_centers_overflow:\n",
    "    if n == 0:\n",
    "        dct_centers_overflow[n] == vec( x_exit,  y_exit)\n",
    "    elif n //  N_position_1fold == 0:\n",
    "        next_pos_vec = -next_pos_vec\n",
    "        dct_centers_overflow[n] = dct_centers_overflow[n - 1] + next_fold_vec\n",
    "    else:\n",
    "        dct_centers_overflow[n] = dct_centers_overflow[n - 1] + next_pos_vec\n",
    "\n",
    " dct_centers_overflow = dct_centers_overflow"
   ]
  },
  {
   "cell_type": "code",
   "execution_count": 5,
   "id": "59b98051",
   "metadata": {
    "ExecuteTime": {
     "end_time": "2021-12-05T06:59:09.282134Z",
     "start_time": "2021-12-05T06:59:09.278869Z"
    }
   },
   "outputs": [
    {
     "data": {
      "text/plain": [
       "True"
      ]
     },
     "execution_count": 5,
     "metadata": {},
     "output_type": "execute_result"
    }
   ],
   "source": [
    "vec(1,0)*vec(0,1) == 0"
   ]
  },
  {
   "cell_type": "code",
   "execution_count": 7,
   "id": "1e28a33b",
   "metadata": {
    "ExecuteTime": {
     "end_time": "2021-12-05T07:14:48.733379Z",
     "start_time": "2021-12-05T07:14:48.730997Z"
    }
   },
   "outputs": [],
   "source": [
    "dct_centers_overflow = {\n",
    "            n: (0, 0) for n in range(10)\n",
    "        }"
   ]
  },
  {
   "cell_type": "code",
   "execution_count": 8,
   "id": "247ee03e",
   "metadata": {
    "ExecuteTime": {
     "end_time": "2021-12-05T07:14:54.247122Z",
     "start_time": "2021-12-05T07:14:54.243348Z"
    }
   },
   "outputs": [
    {
     "data": {
      "text/plain": [
       "{0: (0, 0),\n",
       " 1: (0, 0),\n",
       " 2: (0, 0),\n",
       " 3: (0, 0),\n",
       " 4: (0, 0),\n",
       " 5: (0, 0),\n",
       " 6: (0, 0),\n",
       " 7: (0, 0),\n",
       " 8: (0, 0),\n",
       " 9: (0, 0)}"
      ]
     },
     "execution_count": 8,
     "metadata": {},
     "output_type": "execute_result"
    }
   ],
   "source": [
    "dct_centers_overflow"
   ]
  },
  {
   "cell_type": "code",
   "execution_count": 9,
   "id": "053972a9",
   "metadata": {
    "ExecuteTime": {
     "end_time": "2021-12-05T07:15:04.030301Z",
     "start_time": "2021-12-05T07:15:04.026732Z"
    }
   },
   "outputs": [
    {
     "data": {
      "text/plain": [
       "(0, 0)"
      ]
     },
     "execution_count": 9,
     "metadata": {},
     "output_type": "execute_result"
    }
   ],
   "source": [
    "dct_centers_overflow.pop(0)"
   ]
  },
  {
   "cell_type": "code",
   "execution_count": 11,
   "id": "51c7b3c5",
   "metadata": {
    "ExecuteTime": {
     "end_time": "2021-12-05T07:26:14.508278Z",
     "start_time": "2021-12-05T07:26:14.504849Z"
    }
   },
   "outputs": [
    {
     "data": {
      "text/plain": [
       "<Vector2(3, -0)>"
      ]
     },
     "execution_count": 11,
     "metadata": {},
     "output_type": "execute_result"
    }
   ],
   "source": [
    "-vec(0,3).rotate(90)"
   ]
  },
  {
   "cell_type": "code",
   "execution_count": 12,
   "id": "6b8ff2bd",
   "metadata": {
    "ExecuteTime": {
     "end_time": "2021-12-05T07:39:38.914003Z",
     "start_time": "2021-12-05T07:39:38.909821Z"
    }
   },
   "outputs": [
    {
     "name": "stdout",
     "output_type": "stream",
     "text": [
      "1\n",
      "2\n",
      "3\n",
      "4\n",
      "5\n",
      "6\n",
      "7\n",
      "8\n",
      "9\n"
     ]
    }
   ],
   "source": [
    "for n in range(1,10):\n",
    "    print(n)"
   ]
  }
 ],
 "metadata": {
  "hide_input": false,
  "kernelspec": {
   "display_name": "Python [conda env:KAPpaxsim]",
   "language": "python",
   "name": "conda-env-KAPpaxsim-py"
  },
  "language_info": {
   "codemirror_mode": {
    "name": "ipython",
    "version": 3
   },
   "file_extension": ".py",
   "mimetype": "text/x-python",
   "name": "python",
   "nbconvert_exporter": "python",
   "pygments_lexer": "ipython3",
   "version": "3.8.10"
  },
  "toc": {
   "base_numbering": 1,
   "nav_menu": {},
   "number_sections": true,
   "sideBar": true,
   "skip_h1_title": false,
   "title_cell": "Table of Contents",
   "title_sidebar": "Contents",
   "toc_cell": false,
   "toc_position": {},
   "toc_section_display": true,
   "toc_window_display": false
  },
  "varInspector": {
   "cols": {
    "lenName": 16,
    "lenType": 16,
    "lenVar": 40
   },
   "kernels_config": {
    "python": {
     "delete_cmd_postfix": "",
     "delete_cmd_prefix": "del ",
     "library": "var_list.py",
     "varRefreshCmd": "print(var_dic_list())"
    },
    "r": {
     "delete_cmd_postfix": ") ",
     "delete_cmd_prefix": "rm(",
     "library": "var_list.r",
     "varRefreshCmd": "cat(var_dic_list()) "
    }
   },
   "position": {
    "height": "544.844px",
    "left": "3045px",
    "right": "20px",
    "top": "130px",
    "width": "350px"
   },
   "types_to_exclude": [
    "module",
    "function",
    "builtin_function_or_method",
    "instance",
    "_Feature"
   ],
   "window_display": true
  }
 },
 "nbformat": 4,
 "nbformat_minor": 5
}
