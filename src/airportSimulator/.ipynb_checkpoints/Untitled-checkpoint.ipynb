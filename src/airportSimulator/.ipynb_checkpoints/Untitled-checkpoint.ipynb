{
 "cells": [
  {
   "cell_type": "code",
   "execution_count": 1,
   "id": "36ead8ea",
   "metadata": {
    "ExecuteTime": {
     "end_time": "2021-12-03T04:40:01.389940Z",
     "start_time": "2021-12-03T04:40:01.371625Z"
    }
   },
   "outputs": [
    {
     "name": "stdout",
     "output_type": "stream",
     "text": [
      "pygame 2.1.0 (SDL 2.0.16, Python 3.8.10)\n",
      "Hello from the pygame community. https://www.pygame.org/contribute.html\n"
     ]
    }
   ],
   "source": [
    "import pygame as pg\n",
    "import pytmx"
   ]
  },
  {
   "cell_type": "code",
   "execution_count": 8,
   "id": "364acc60",
   "metadata": {
    "ExecuteTime": {
     "end_time": "2021-12-03T04:42:44.181133Z",
     "start_time": "2021-12-03T04:42:44.111808Z"
    }
   },
   "outputs": [],
   "source": [
    "pg.init()\n",
    "screen = pg.display.set_mode((500, 500))"
   ]
  },
  {
   "cell_type": "code",
   "execution_count": 9,
   "id": "c7d5c80b",
   "metadata": {
    "ExecuteTime": {
     "end_time": "2021-12-03T04:42:48.027505Z",
     "start_time": "2021-12-03T04:42:48.025413Z"
    }
   },
   "outputs": [],
   "source": [
    "path = r'/home/antoine/projects/trafficSimulator/src/airportSimulator/maps/covid_arrival.tmx'"
   ]
  },
  {
   "cell_type": "code",
   "execution_count": 10,
   "id": "7c7a1863",
   "metadata": {
    "ExecuteTime": {
     "end_time": "2021-12-03T04:42:49.429309Z",
     "start_time": "2021-12-03T04:42:49.192162Z"
    }
   },
   "outputs": [],
   "source": [
    "tm = pytmx.load_pygame(path, pixelalpha=True)"
   ]
  },
  {
   "cell_type": "code",
   "execution_count": 26,
   "id": "2e68d47c",
   "metadata": {
    "ExecuteTime": {
     "end_time": "2021-12-03T04:58:14.025160Z",
     "start_time": "2021-12-03T04:58:14.019197Z"
    }
   },
   "outputs": [
    {
     "name": "stdout",
     "output_type": "stream",
     "text": [
      "<TiledObjectGroup[2]: \"background\">\n",
      "{'fixed_sprite': True, 'layer': 1}\n",
      "<TiledObject[1]: \"background\">\n",
      "<TiledObjectGroup[3]: \"queues\">\n",
      "{}\n",
      "<TiledObject[3]: \"queue_A\">\n",
      "<TiledObject[5]: \"desk_A\">\n",
      "<TiledObjectGroup[4]: \"spawn_points\">\n",
      "{}\n",
      "<TiledObject[2]: \"spawn_point\">\n",
      "<TiledObjectGroup[8]: \"desk_sprites\">\n",
      "{'fixed_sprite': True, 'layer': 2}\n",
      "<TiledObject[7]: \"None\">\n",
      "<TiledObjectGroup[9]: \"staff_sprites\">\n",
      "{'fixed_sprite': True, 'layer': 3}\n",
      "<TiledObject[13]: \"None\">\n",
      "<TiledObject[14]: \"None\">\n",
      "<TiledObject[15]: \"None\">\n",
      "<TiledObject[16]: \"None\">\n",
      "<TiledObject[17]: \"None\">\n"
     ]
    }
   ],
   "source": [
    "for object_group in tm.objectgroups:\n",
    "        print(object_group)\n",
    "        print(object_group.properties)\n",
    "        for object in object_group:\n",
    "            print(object)"
   ]
  },
  {
   "cell_type": "code",
   "execution_count": null,
   "id": "e965dbf8",
   "metadata": {},
   "outputs": [],
   "source": [
    "for object_group in tm.objectgroups:\n",
    "    print(object_group[0])"
   ]
  }
 ],
 "metadata": {
  "hide_input": false,
  "kernelspec": {
   "display_name": "Python [conda env:KAPpaxsim]",
   "language": "python",
   "name": "conda-env-KAPpaxsim-py"
  },
  "language_info": {
   "codemirror_mode": {
    "name": "ipython",
    "version": 3
   },
   "file_extension": ".py",
   "mimetype": "text/x-python",
   "name": "python",
   "nbconvert_exporter": "python",
   "pygments_lexer": "ipython3",
   "version": "3.8.10"
  },
  "toc": {
   "base_numbering": 1,
   "nav_menu": {},
   "number_sections": true,
   "sideBar": true,
   "skip_h1_title": false,
   "title_cell": "Table of Contents",
   "title_sidebar": "Contents",
   "toc_cell": false,
   "toc_position": {},
   "toc_section_display": true,
   "toc_window_display": false
  },
  "varInspector": {
   "cols": {
    "lenName": 16,
    "lenType": 16,
    "lenVar": 40
   },
   "kernels_config": {
    "python": {
     "delete_cmd_postfix": "",
     "delete_cmd_prefix": "del ",
     "library": "var_list.py",
     "varRefreshCmd": "print(var_dic_list())"
    },
    "r": {
     "delete_cmd_postfix": ") ",
     "delete_cmd_prefix": "rm(",
     "library": "var_list.r",
     "varRefreshCmd": "cat(var_dic_list()) "
    }
   },
   "position": {
    "height": "544.844px",
    "left": "3045px",
    "right": "20px",
    "top": "130px",
    "width": "350px"
   },
   "types_to_exclude": [
    "module",
    "function",
    "builtin_function_or_method",
    "instance",
    "_Feature"
   ],
   "window_display": true
  }
 },
 "nbformat": 4,
 "nbformat_minor": 5
}
